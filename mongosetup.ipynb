{
 "cells": [
  {
   "cell_type": "markdown",
   "metadata": {},
   "source": [
    "# MongoDB setup"
   ]
  },
  {
   "cell_type": "markdown",
   "metadata": {},
   "source": [
    "### Unzip"
   ]
  },
  {
   "cell_type": "code",
   "execution_count": 33,
   "metadata": {},
   "outputs": [],
   "source": [
    "import py7zr\n",
    "\n",
    "with py7zr.SevenZipFile('Dataset/US_youtube_trending_data.7z.', mode='r') as z:\n",
    "    z.extractall()"
   ]
  },
  {
   "cell_type": "markdown",
   "metadata": {},
   "source": [
    "#### Importing dependencies"
   ]
  },
  {
   "cell_type": "code",
   "execution_count": 35,
   "metadata": {},
   "outputs": [],
   "source": [
    "import os\n",
    "import pprint\n",
    "import pandas as pd\n",
    "from pymongo import MongoClient\n",
    "import pprint"
   ]
  },
  {
   "cell_type": "code",
   "execution_count": 19,
   "metadata": {},
   "outputs": [],
   "source": [
    "# !pip freeze > requirements.txt"
   ]
  },
  {
   "cell_type": "markdown",
   "metadata": {},
   "source": [
    "### Databasse information\n",
    "\n",
    "database name : bigdata  \n",
    "collection name: videos"
   ]
  },
  {
   "cell_type": "code",
   "execution_count": 20,
   "metadata": {},
   "outputs": [],
   "source": [
    "client = MongoClient(host='localhost',port=27017)"
   ]
  },
  {
   "cell_type": "code",
   "execution_count": 21,
   "metadata": {},
   "outputs": [
    {
     "data": {
      "text/plain": [
       "['admin', 'bigdata', 'config', 'local']"
      ]
     },
     "execution_count": 21,
     "metadata": {},
     "output_type": "execute_result"
    }
   ],
   "source": [
    "client.list_database_names()"
   ]
  },
  {
   "cell_type": "markdown",
   "metadata": {},
   "source": [
    "#### Creating database"
   ]
  },
  {
   "cell_type": "code",
   "execution_count": 22,
   "metadata": {},
   "outputs": [],
   "source": [
    "db=client[\"bigdata\"]"
   ]
  },
  {
   "cell_type": "code",
   "execution_count": 25,
   "metadata": {},
   "outputs": [
    {
     "data": {
      "text/plain": [
       "Collection(Database(MongoClient(host=['localhost:27017'], document_class=dict, tz_aware=False, connect=True), 'bigdata'), 'videos')"
      ]
     },
     "execution_count": 25,
     "metadata": {},
     "output_type": "execute_result"
    }
   ],
   "source": [
    "db.create_collection(\"videos\")"
   ]
  },
  {
   "cell_type": "code",
   "execution_count": 26,
   "metadata": {},
   "outputs": [
    {
     "data": {
      "text/plain": [
       "['videos']"
      ]
     },
     "execution_count": 26,
     "metadata": {},
     "output_type": "execute_result"
    }
   ],
   "source": [
    "db.list_collection_names()"
   ]
  },
  {
   "cell_type": "code",
   "execution_count": 27,
   "metadata": {},
   "outputs": [],
   "source": [
    "videos=db[\"videos\"]"
   ]
  },
  {
   "cell_type": "markdown",
   "metadata": {},
   "source": [
    "### Inseting data"
   ]
  },
  {
   "cell_type": "code",
   "execution_count": 28,
   "metadata": {},
   "outputs": [
    {
     "data": {
      "text/plain": [
       "268787"
      ]
     },
     "execution_count": 28,
     "metadata": {},
     "output_type": "execute_result"
    }
   ],
   "source": [
    "videos_data_dict=pd.read_csv(\"US_youtube_trending_data.csv\").to_dict(orient=\"records\")\n",
    "len(videos_data_dict)"
   ]
  },
  {
   "cell_type": "code",
   "execution_count": 36,
   "metadata": {},
   "outputs": [],
   "source": [
    "os.remove(\"US_youtube_trending_data.csv\")"
   ]
  },
  {
   "cell_type": "code",
   "execution_count": null,
   "metadata": {},
   "outputs": [],
   "source": [
    "videos.insert_many(videos_data_dict)"
   ]
  },
  {
   "cell_type": "code",
   "execution_count": 31,
   "metadata": {},
   "outputs": [
    {
     "data": {
      "text/plain": [
       "268787"
      ]
     },
     "execution_count": 31,
     "metadata": {},
     "output_type": "execute_result"
    }
   ],
   "source": [
    "videos.count_documents({})"
   ]
  },
  {
   "cell_type": "code",
   "execution_count": 32,
   "metadata": {},
   "outputs": [
    {
     "name": "stdout",
     "output_type": "stream",
     "text": [
      "{'_id': ObjectId('6639e704903af8c73646ca3b'), 'video_id': '3C66w5Z0ixs', 'title': 'I ASKED HER TO BE MY GIRLFRIEND...', 'publishedAt': '2020-08-11T19:20:14Z', 'channelId': 'UCvtRTOMP2TqYqu51xNrqAzg', 'channelTitle': 'Brawadis', 'categoryId': 22, 'trending_date': '2020-08-12T00:00:00Z', 'tags': 'brawadis|prank|basketball|skits|ghost|funny videos|vlog|vlogging|NBA|browadis|challenges|bmw i8|faze rug|faze rug brother|mama rug and papa rug', 'view_count': 1514614, 'likes': 156908, 'dislikes': 5855, 'comment_count': 35313, 'thumbnail_link': 'https://i.ytimg.com/vi/3C66w5Z0ixs/default.jpg', 'comments_disabled': False, 'ratings_disabled': False, 'description': 'SUBSCRIBE to BRAWADIS ▶ http://bit.ly/SubscribeToBrawadis\\r\\rFOLLOW ME ON SOCIAL\\r▶ Twitter: https://twitter.com/Brawadis\\r▶ Instagram: https://www.instagram.com/brawadis/\\r▶ Snapchat: brawadis\\r\\rHi! I’m Brandon Awadis and I like to make dope vlogs, pranks, reactions, challenges and basketball videos. Don’t forget to subscribe and come be a part of the BrawadSquad!'}\n",
      "{'_id': ObjectId('6639e704903af8c73646ca3c'), 'video_id': 'M9Pmf9AB4Mo', 'title': 'Apex Legends | Stories from the Outlands – “The Endorsement”', 'publishedAt': '2020-08-11T17:00:10Z', 'channelId': 'UC0ZV6M2THA81QT9hrVWJG3A', 'channelTitle': 'Apex Legends', 'categoryId': 20, 'trending_date': '2020-08-12T00:00:00Z', 'tags': 'Apex Legends|Apex Legends characters|new Apex Legend|Apex Legends Rampart|Apex Legends Season 6|Apex Legends Boosted|Battle Pass|Season 6 Battle Pass|Apex Legends new season|Apex Legends game|Respawn Apex Legends|Battle Royale game|Battle Royale|Battle Royale shooter|Apex Games|squad play|multiplayer shooter|Apex Legends PS4|Apex Legends Xbox|Apex Legends PC|Apex Legends Origin|Respawn Entertainment|Electronic Arts|Titanfall 2|fun battle royale', 'view_count': 2381688, 'likes': 146739, 'dislikes': 2794, 'comment_count': 16549, 'thumbnail_link': 'https://i.ytimg.com/vi/M9Pmf9AB4Mo/default.jpg', 'comments_disabled': False, 'ratings_disabled': False, 'description': 'While running her own modding shop, Ramya Parekh (aka Rampart) built her rep in underground gauntlet circuits. But success has a way of making enemies. Good thing she knows how to use all those fancy weapons she’s upgraded…  Apex Legends™ is a free-to-play battle royale game where legendary characters battle for glory, fame, and fortune on the fringes of the Frontier. Play for free now on Xbox One, PS4, and Origin for PC. Learn more about Apex Legends Season 6 – Boosted: http://x.ea.com/64060 Check out our YouTube channel: http://x.ea.com/56710.Follow us on Twitter: https://twitter.com/playapex.Follow us on Instagram: https://www.instagram.com/playapex/.#MeetRampart #ApexSeason6 #ApexSeasonSix #ApexLegends'}\n",
      "{'_id': ObjectId('6639e704903af8c73646ca3d'), 'video_id': 'J78aPJ3VyNs', 'title': 'I left youtube for a month and THIS is what happened.', 'publishedAt': '2020-08-11T16:34:06Z', 'channelId': 'UCYzPXprvl5Y-Sf0g4vX-m6g', 'channelTitle': 'jacksepticeye', 'categoryId': 24, 'trending_date': '2020-08-12T00:00:00Z', 'tags': 'jacksepticeye|funny|funny meme|memes|jacksepticeye memes|reddit|subreddit|community|community memes|community subreddit|jacksepticeye subreddit|reddit memes|fan submitted|spicy memes|funny pics|reaction|react|green screen|funny memes|funny green screen|dank memes|memes compilation|try not to laugh|meme|fresh memes|meme review|funny moments|bell memes|bell of meme|jacksepticeye bell', 'view_count': 2038853, 'likes': 353787, 'dislikes': 2628, 'comment_count': 40221, 'thumbnail_link': 'https://i.ytimg.com/vi/J78aPJ3VyNs/default.jpg', 'comments_disabled': False, 'ratings_disabled': False, 'description': \"I left youtube for a month and this is what happenedMY COFFEE COMPANY: https://twitter.com/TOTMCoffeeJoin the subreddit: https://www.reddit.com/r/jacksepticeye/MORE MEMES ► https://www.youtube.com/watch?v=wGdn6ldQTTg&list=PLMBYlcH3smRxmCZzsUyrxB0IyKSQAU0pPJacksepticeye's Funniest Home Videos: https://www.youtube.com/watch?v=VqfLcdpBasY&list=PLMBYlcH3smRxOk7Cp_V2ar3QDfvljWvSyEdited by: https://twitter.com/DaveDelirious►Twitter : https://twitter.com/Jack_Septic_Eye►Instagram: http://instagram.com/jacksepticeye\"}\n"
     ]
    }
   ],
   "source": [
    "for i in videos.find({}).limit(3):\n",
    "    print(i)"
   ]
  }
 ],
 "metadata": {
  "kernelspec": {
   "display_name": "bigdata",
   "language": "python",
   "name": "python3"
  },
  "language_info": {
   "codemirror_mode": {
    "name": "ipython",
    "version": 3
   },
   "file_extension": ".py",
   "mimetype": "text/x-python",
   "name": "python",
   "nbconvert_exporter": "python",
   "pygments_lexer": "ipython3",
   "version": "3.10.0"
  }
 },
 "nbformat": 4,
 "nbformat_minor": 2
}
