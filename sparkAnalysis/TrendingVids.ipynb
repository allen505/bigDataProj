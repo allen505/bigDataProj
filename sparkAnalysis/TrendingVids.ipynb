{
 "cells": [
  {
   "cell_type": "code",
   "execution_count": 1,
   "id": "778a5f0e-25f0-4261-b96d-ca87dc6233aa",
   "metadata": {},
   "outputs": [],
   "source": [
    "import json\n",
    "from pyspark.sql import SparkSession\n",
    "from pyspark.sql.functions import from_json, col, window, count, from_unixtime\n",
    "from pyspark.sql.types import StringType\n",
    "from pymongo import MongoClient\n",
    "from pyspark.sql.types import StructType, StructField, StringType, IntegerType, TimestampType"
   ]
  },
  {
   "cell_type": "code",
   "execution_count": 4,
   "id": "0fc65a5f-0e24-4f91-95de-c8762d05225a",
   "metadata": {
    "scrolled": true
   },
   "outputs": [
    {
     "name": "stderr",
     "output_type": "stream",
     "text": [
      "WARNING: An illegal reflective access operation has occurred\n",
      "WARNING: Illegal reflective access by org.apache.spark.unsafe.Platform (file:/opt/spark/jars/spark-unsafe_2.12-3.2.1.jar) to constructor java.nio.DirectByteBuffer(long,int)\n",
      "WARNING: Please consider reporting this to the maintainers of org.apache.spark.unsafe.Platform\n",
      "WARNING: Use --illegal-access=warn to enable warnings of further illegal reflective access operations\n",
      "WARNING: All illegal access operations will be denied in a future release\n"
     ]
    },
    {
     "name": "stdout",
     "output_type": "stream",
     "text": [
      ":: loading settings :: url = jar:file:/opt/spark/jars/ivy-2.5.0.jar!/org/apache/ivy/core/settings/ivysettings.xml\n"
     ]
    },
    {
     "name": "stderr",
     "output_type": "stream",
     "text": [
      "Ivy Default Cache set to: /root/.ivy2/cache\n",
      "The jars for the packages stored in: /root/.ivy2/jars\n",
      "org.apache.spark#spark-sql-kafka-0-10_2.12 added as a dependency\n",
      "org.apache.kafka#kafka-clients added as a dependency\n",
      "org.mongodb.spark#mongo-spark-connector_2.12 added as a dependency\n",
      ":: resolving dependencies :: org.apache.spark#spark-submit-parent-8c8dfa59-cc79-4a52-bd3d-35a764d79e12;1.0\n",
      "\tconfs: [default]\n",
      "\tfound org.apache.spark#spark-sql-kafka-0-10_2.12;3.2.1 in central\n",
      "\tfound org.apache.spark#spark-token-provider-kafka-0-10_2.12;3.2.1 in central\n",
      "\tfound org.apache.hadoop#hadoop-client-runtime;3.3.1 in central\n",
      "\tfound org.spark-project.spark#unused;1.0.0 in central\n",
      "\tfound org.apache.hadoop#hadoop-client-api;3.3.1 in central\n",
      "\tfound org.apache.htrace#htrace-core4;4.1.0-incubating in central\n",
      "\tfound org.slf4j#slf4j-api;1.7.30 in central\n",
      "\tfound commons-logging#commons-logging;1.1.3 in central\n",
      "\tfound com.google.code.findbugs#jsr305;3.0.0 in central\n",
      "\tfound org.apache.commons#commons-pool2;2.6.2 in central\n",
      "\tfound org.apache.kafka#kafka-clients;3.2.0 in central\n",
      "\tfound com.github.luben#zstd-jni;1.5.2-1 in central\n",
      "\tfound org.lz4#lz4-java;1.8.0 in central\n",
      "\tfound org.xerial.snappy#snappy-java;1.1.8.4 in central\n",
      "\tfound org.slf4j#slf4j-api;1.7.36 in central\n",
      "\tfound org.mongodb.spark#mongo-spark-connector_2.12;3.0.2 in central\n",
      "\tfound org.mongodb#mongodb-driver-sync;4.0.5 in central\n",
      "\tfound org.mongodb#bson;4.0.5 in central\n",
      "\tfound org.mongodb#mongodb-driver-core;4.0.5 in central\n",
      "downloading https://repo1.maven.org/maven2/org/mongodb/spark/mongo-spark-connector_2.12/3.0.2/mongo-spark-connector_2.12-3.0.2.jar ...\n",
      "\t[SUCCESSFUL ] org.mongodb.spark#mongo-spark-connector_2.12;3.0.2!mongo-spark-connector_2.12.jar (111ms)\n",
      ":: resolution report :: resolve 1849ms :: artifacts dl 149ms\n",
      "\t:: modules in use:\n",
      "\tcom.github.luben#zstd-jni;1.5.2-1 from central in [default]\n",
      "\tcom.google.code.findbugs#jsr305;3.0.0 from central in [default]\n",
      "\tcommons-logging#commons-logging;1.1.3 from central in [default]\n",
      "\torg.apache.commons#commons-pool2;2.6.2 from central in [default]\n",
      "\torg.apache.hadoop#hadoop-client-api;3.3.1 from central in [default]\n",
      "\torg.apache.hadoop#hadoop-client-runtime;3.3.1 from central in [default]\n",
      "\torg.apache.htrace#htrace-core4;4.1.0-incubating from central in [default]\n",
      "\torg.apache.kafka#kafka-clients;3.2.0 from central in [default]\n",
      "\torg.apache.spark#spark-sql-kafka-0-10_2.12;3.2.1 from central in [default]\n",
      "\torg.apache.spark#spark-token-provider-kafka-0-10_2.12;3.2.1 from central in [default]\n",
      "\torg.lz4#lz4-java;1.8.0 from central in [default]\n",
      "\torg.mongodb#bson;4.0.5 from central in [default]\n",
      "\torg.mongodb#mongodb-driver-core;4.0.5 from central in [default]\n",
      "\torg.mongodb#mongodb-driver-sync;4.0.5 from central in [default]\n",
      "\torg.mongodb.spark#mongo-spark-connector_2.12;3.0.2 from central in [default]\n",
      "\torg.slf4j#slf4j-api;1.7.36 from central in [default]\n",
      "\torg.spark-project.spark#unused;1.0.0 from central in [default]\n",
      "\torg.xerial.snappy#snappy-java;1.1.8.4 from central in [default]\n",
      "\t:: evicted modules:\n",
      "\torg.apache.kafka#kafka-clients;2.8.0 by [org.apache.kafka#kafka-clients;3.2.0] in [default]\n",
      "\torg.slf4j#slf4j-api;1.7.30 by [org.slf4j#slf4j-api;1.7.36] in [default]\n",
      "\t---------------------------------------------------------------------\n",
      "\t|                  |            modules            ||   artifacts   |\n",
      "\t|       conf       | number| search|dwnlded|evicted|| number|dwnlded|\n",
      "\t---------------------------------------------------------------------\n",
      "\t|      default     |   20  |   1   |   1   |   2   ||   18  |   1   |\n",
      "\t---------------------------------------------------------------------\n",
      ":: retrieving :: org.apache.spark#spark-submit-parent-8c8dfa59-cc79-4a52-bd3d-35a764d79e12\n",
      "\tconfs: [default]\n",
      "\t1 artifacts copied, 17 already retrieved (540kB/34ms)\n",
      "24/05/09 19:36:08 WARN NativeCodeLoader: Unable to load native-hadoop library for your platform... using builtin-java classes where applicable\n",
      "Using Spark's default log4j profile: org/apache/spark/log4j-defaults.properties\n",
      "Setting default log level to \"WARN\".\n",
      "To adjust logging level use sc.setLogLevel(newLevel). For SparkR, use setLogLevel(newLevel).\n"
     ]
    }
   ],
   "source": [
    "packages = [\n",
    "    'org.apache.spark:spark-sql-kafka-0-10_2.12:3.2.1',\n",
    "    'org.apache.kafka:kafka-clients:3.2.0',\n",
    "    'org.mongodb.spark:mongo-spark-connector_2.12:3.0.2'\n",
    "]\n",
    "\n",
    "spark = SparkSession.builder\\\n",
    "   .master(\"local\")\\\n",
    "   .appName(\"kafka-example\")\\\n",
    "   .config(\"spark.jars.packages\", \",\".join(packages))\\\n",
    "   .getOrCreate()"
   ]
  },
  {
   "cell_type": "markdown",
   "id": "0aa7db5f-0885-4f14-8f5e-35c2e9c77fb0",
   "metadata": {},
   "source": [
    "### Reading from Mongo"
   ]
  },
  {
   "cell_type": "code",
   "execution_count": 9,
   "id": "8545d649-7885-46ba-a01b-8c2e02423e86",
   "metadata": {},
   "outputs": [],
   "source": [
    "mongo_params = {\n",
    "    \"uri\": \"mongodb://mongo:27017\",\n",
    "    \"database\": \"bigdata\",\n",
    "    \"collection\": \"trending_videos\"\n",
    "}\n",
    "\n",
    "dataFrame = spark.read\\\n",
    "                 .format(\"mongo\")\\\n",
    "                 .options(**mongo_params) \\\n",
    "                 .load()"
   ]
  },
  {
   "cell_type": "code",
   "execution_count": 10,
   "id": "c9e7083c-feee-45e6-9294-e875ad9ce10b",
   "metadata": {},
   "outputs": [
    {
     "name": "stdout",
     "output_type": "stream",
     "text": [
      "root\n",
      " |-- _id: struct (nullable = true)\n",
      " |    |-- oid: string (nullable = true)\n",
      " |-- count: integer (nullable = true)\n",
      " |-- video_id: string (nullable = true)\n",
      "\n"
     ]
    }
   ],
   "source": [
    "dataFrame.printSchema()"
   ]
  },
  {
   "cell_type": "markdown",
   "id": "761d944e-8945-40f4-9703-5e3c28d17a9b",
   "metadata": {},
   "source": [
    "### Reading from Kafka"
   ]
  },
  {
   "cell_type": "code",
   "execution_count": 3,
   "id": "bbfb31a1-cd74-44a9-bfd0-28880251bce4",
   "metadata": {
    "scrolled": true
   },
   "outputs": [],
   "source": [
    "kafka_params = {\n",
    "    \"kafka.bootstrap.servers\": \"kafka:9092\",\n",
    "    \"subscribe\": \"VID_OPEN_TOPIC\",\n",
    "    \"startingOffsets\": \"earliest\",\n",
    "    \"endingOffsets\": \"latest\"\n",
    "}\n",
    "\n",
    "# Read data from Kafka\n",
    "raw_data = spark \\\n",
    "    .read \\\n",
    "    .format(\"kafka\") \\\n",
    "    .options(**kafka_params) \\\n",
    "    .load()"
   ]
  },
  {
   "cell_type": "code",
   "execution_count": 4,
   "id": "905efae65e7305b0",
   "metadata": {
    "ExecuteTime": {
     "end_time": "2024-05-09T00:34:35.198529Z",
     "start_time": "2024-05-09T00:34:35.190656Z"
    },
    "collapsed": false,
    "jupyter": {
     "outputs_hidden": false
    }
   },
   "outputs": [],
   "source": [
    "# schema = \"user_id STRING, video_id STRING, watched_at TIMESTAMP\"\n",
    "# schema = \"user_id STRING, video_id STRING, timestamp TIMESTAMP\"\n",
    "schema = StructType([\n",
    "    StructField(\"user_id\", StringType(), False),\n",
    "    StructField(\"video_id\", StringType(), False),\n",
    "    StructField(\"timestamp\", TimestampType(), False)\n",
    "])"
   ]
  },
  {
   "cell_type": "code",
   "execution_count": 5,
   "id": "192f092f-68ad-4895-b600-c3c7dbb4e62e",
   "metadata": {},
   "outputs": [
    {
     "name": "stderr",
     "output_type": "stream",
     "text": [
      "                                                                                \r"
     ]
    }
   ],
   "source": [
    "# Assuming 'value' is the column containing the JSON data\n",
    "parsed_data = raw_data\\\n",
    "    .select(from_json(col(\"value\").cast(\"string\"), schema).alias(\"data\"))\\\n",
    "    .select(\"data.timestamp\", \"data.video_id\")\\\n",
    "    .groupBy(\"video_id\").count()\\\n",
    "    .orderBy(col(\"count\").desc()).limit(10)\n",
    "\n",
    "top_videos = parsed_data.toJSON().collect()"
   ]
  },
  {
   "cell_type": "markdown",
   "id": "9452a6ec-1589-476e-8929-77cabccfdc2c",
   "metadata": {},
   "source": [
    "#### Sample value in `VID_OPEN_TOPIC` Kafka Topic\n",
    "`{\"timestamp\": 1715268711.870222, \"video_id\": \"QdBZY2fkU-0\", \"email\": \"allenA\"}`"
   ]
  },
  {
   "cell_type": "code",
   "execution_count": 6,
   "id": "4351d5c9-0d9f-447c-8648-0916efd343b6",
   "metadata": {},
   "outputs": [],
   "source": [
    "parsed_vids = []\n",
    "\n",
    "for v in top_videos:\n",
    "    parsed_vids.append(json.loads(v))"
   ]
  },
  {
   "cell_type": "code",
   "execution_count": 7,
   "id": "b5d6059f-987c-4604-a962-b9249706ad6b",
   "metadata": {},
   "outputs": [],
   "source": [
    "# Connect to MongoDB\n",
    "client = MongoClient(\"mongodb://mongo:27017/\")\n",
    "db = client[\"bigdata\"]\n",
    "collection = db[\"trending_videos\"]"
   ]
  },
  {
   "cell_type": "code",
   "execution_count": 8,
   "id": "c80fee22-b462-4f46-9d42-880016dbc1d6",
   "metadata": {
    "scrolled": true
   },
   "outputs": [],
   "source": [
    "collection.delete_many({})\n",
    "\n",
    "for vid in parsed_vids:\n",
    "    collection.insert_one(vid)"
   ]
  }
 ],
 "metadata": {
  "kernelspec": {
   "display_name": "Python 3 (ipykernel)",
   "language": "python",
   "name": "python3"
  },
  "language_info": {
   "codemirror_mode": {
    "name": "ipython",
    "version": 3
   },
   "file_extension": ".py",
   "mimetype": "text/x-python",
   "name": "python",
   "nbconvert_exporter": "python",
   "pygments_lexer": "ipython3",
   "version": "3.8.13"
  }
 },
 "nbformat": 4,
 "nbformat_minor": 5
}
